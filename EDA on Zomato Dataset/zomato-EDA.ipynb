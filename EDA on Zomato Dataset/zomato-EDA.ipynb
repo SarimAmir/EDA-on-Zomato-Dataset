{
 "cells": [
  {
   "cell_type": "code",
   "execution_count": 15,
   "outputs": [],
   "source": [
    "import pandas as pd\n",
    "import numpy as np\n",
    "from matplotlib import pyplot as plt\n",
    "import  seaborn as sns"
   ],
   "metadata": {
    "collapsed": false,
    "pycharm": {
     "name": "#%%\n"
    }
   }
  },
  {
   "cell_type": "code",
   "execution_count": 3,
   "outputs": [],
   "source": [
    "df=pd.read_csv(\"zomato.csv\",encoding='latin-1')"
   ],
   "metadata": {
    "collapsed": false,
    "pycharm": {
     "name": "#%%\n"
    }
   }
  },
  {
   "cell_type": "code",
   "execution_count": 4,
   "outputs": [
    {
     "data": {
      "text/plain": "   Restaurant ID         Restaurant Name  Country Code              City  \\\n0        6317637        Le Petit Souffle           162       Makati City   \n1        6304287        Izakaya Kikufuji           162       Makati City   \n2        6300002  Heat - Edsa Shangri-La           162  Mandaluyong City   \n3        6318506                    Ooma           162  Mandaluyong City   \n4        6314302             Sambo Kojin           162  Mandaluyong City   \n\n                                             Address  \\\n0  Third Floor, Century City Mall, Kalayaan Avenu...   \n1  Little Tokyo, 2277 Chino Roces Avenue, Legaspi...   \n2  Edsa Shangri-La, 1 Garden Way, Ortigas, Mandal...   \n3  Third Floor, Mega Fashion Hall, SM Megamall, O...   \n4  Third Floor, Mega Atrium, SM Megamall, Ortigas...   \n\n                                     Locality  \\\n0   Century City Mall, Poblacion, Makati City   \n1  Little Tokyo, Legaspi Village, Makati City   \n2  Edsa Shangri-La, Ortigas, Mandaluyong City   \n3      SM Megamall, Ortigas, Mandaluyong City   \n4      SM Megamall, Ortigas, Mandaluyong City   \n\n                                    Locality Verbose   Longitude   Latitude  \\\n0  Century City Mall, Poblacion, Makati City, Mak...  121.027535  14.565443   \n1  Little Tokyo, Legaspi Village, Makati City, Ma...  121.014101  14.553708   \n2  Edsa Shangri-La, Ortigas, Mandaluyong City, Ma...  121.056831  14.581404   \n3  SM Megamall, Ortigas, Mandaluyong City, Mandal...  121.056475  14.585318   \n4  SM Megamall, Ortigas, Mandaluyong City, Mandal...  121.057508  14.584450   \n\n                           Cuisines  ...          Currency Has Table booking  \\\n0        French, Japanese, Desserts  ...  Botswana Pula(P)               Yes   \n1                          Japanese  ...  Botswana Pula(P)               Yes   \n2  Seafood, Asian, Filipino, Indian  ...  Botswana Pula(P)               Yes   \n3                   Japanese, Sushi  ...  Botswana Pula(P)                No   \n4                  Japanese, Korean  ...  Botswana Pula(P)               Yes   \n\n  Has Online delivery Is delivering now Switch to order menu Price range  \\\n0                  No                No                   No           3   \n1                  No                No                   No           3   \n2                  No                No                   No           4   \n3                  No                No                   No           4   \n4                  No                No                   No           4   \n\n   Aggregate rating  Rating color Rating text Votes  \n0               4.8    Dark Green   Excellent   314  \n1               4.5    Dark Green   Excellent   591  \n2               4.4         Green   Very Good   270  \n3               4.9    Dark Green   Excellent   365  \n4               4.8    Dark Green   Excellent   229  \n\n[5 rows x 21 columns]",
      "text/html": "<div>\n<style scoped>\n    .dataframe tbody tr th:only-of-type {\n        vertical-align: middle;\n    }\n\n    .dataframe tbody tr th {\n        vertical-align: top;\n    }\n\n    .dataframe thead th {\n        text-align: right;\n    }\n</style>\n<table border=\"1\" class=\"dataframe\">\n  <thead>\n    <tr style=\"text-align: right;\">\n      <th></th>\n      <th>Restaurant ID</th>\n      <th>Restaurant Name</th>\n      <th>Country Code</th>\n      <th>City</th>\n      <th>Address</th>\n      <th>Locality</th>\n      <th>Locality Verbose</th>\n      <th>Longitude</th>\n      <th>Latitude</th>\n      <th>Cuisines</th>\n      <th>...</th>\n      <th>Currency</th>\n      <th>Has Table booking</th>\n      <th>Has Online delivery</th>\n      <th>Is delivering now</th>\n      <th>Switch to order menu</th>\n      <th>Price range</th>\n      <th>Aggregate rating</th>\n      <th>Rating color</th>\n      <th>Rating text</th>\n      <th>Votes</th>\n    </tr>\n  </thead>\n  <tbody>\n    <tr>\n      <th>0</th>\n      <td>6317637</td>\n      <td>Le Petit Souffle</td>\n      <td>162</td>\n      <td>Makati City</td>\n      <td>Third Floor, Century City Mall, Kalayaan Avenu...</td>\n      <td>Century City Mall, Poblacion, Makati City</td>\n      <td>Century City Mall, Poblacion, Makati City, Mak...</td>\n      <td>121.027535</td>\n      <td>14.565443</td>\n      <td>French, Japanese, Desserts</td>\n      <td>...</td>\n      <td>Botswana Pula(P)</td>\n      <td>Yes</td>\n      <td>No</td>\n      <td>No</td>\n      <td>No</td>\n      <td>3</td>\n      <td>4.8</td>\n      <td>Dark Green</td>\n      <td>Excellent</td>\n      <td>314</td>\n    </tr>\n    <tr>\n      <th>1</th>\n      <td>6304287</td>\n      <td>Izakaya Kikufuji</td>\n      <td>162</td>\n      <td>Makati City</td>\n      <td>Little Tokyo, 2277 Chino Roces Avenue, Legaspi...</td>\n      <td>Little Tokyo, Legaspi Village, Makati City</td>\n      <td>Little Tokyo, Legaspi Village, Makati City, Ma...</td>\n      <td>121.014101</td>\n      <td>14.553708</td>\n      <td>Japanese</td>\n      <td>...</td>\n      <td>Botswana Pula(P)</td>\n      <td>Yes</td>\n      <td>No</td>\n      <td>No</td>\n      <td>No</td>\n      <td>3</td>\n      <td>4.5</td>\n      <td>Dark Green</td>\n      <td>Excellent</td>\n      <td>591</td>\n    </tr>\n    <tr>\n      <th>2</th>\n      <td>6300002</td>\n      <td>Heat - Edsa Shangri-La</td>\n      <td>162</td>\n      <td>Mandaluyong City</td>\n      <td>Edsa Shangri-La, 1 Garden Way, Ortigas, Mandal...</td>\n      <td>Edsa Shangri-La, Ortigas, Mandaluyong City</td>\n      <td>Edsa Shangri-La, Ortigas, Mandaluyong City, Ma...</td>\n      <td>121.056831</td>\n      <td>14.581404</td>\n      <td>Seafood, Asian, Filipino, Indian</td>\n      <td>...</td>\n      <td>Botswana Pula(P)</td>\n      <td>Yes</td>\n      <td>No</td>\n      <td>No</td>\n      <td>No</td>\n      <td>4</td>\n      <td>4.4</td>\n      <td>Green</td>\n      <td>Very Good</td>\n      <td>270</td>\n    </tr>\n    <tr>\n      <th>3</th>\n      <td>6318506</td>\n      <td>Ooma</td>\n      <td>162</td>\n      <td>Mandaluyong City</td>\n      <td>Third Floor, Mega Fashion Hall, SM Megamall, O...</td>\n      <td>SM Megamall, Ortigas, Mandaluyong City</td>\n      <td>SM Megamall, Ortigas, Mandaluyong City, Mandal...</td>\n      <td>121.056475</td>\n      <td>14.585318</td>\n      <td>Japanese, Sushi</td>\n      <td>...</td>\n      <td>Botswana Pula(P)</td>\n      <td>No</td>\n      <td>No</td>\n      <td>No</td>\n      <td>No</td>\n      <td>4</td>\n      <td>4.9</td>\n      <td>Dark Green</td>\n      <td>Excellent</td>\n      <td>365</td>\n    </tr>\n    <tr>\n      <th>4</th>\n      <td>6314302</td>\n      <td>Sambo Kojin</td>\n      <td>162</td>\n      <td>Mandaluyong City</td>\n      <td>Third Floor, Mega Atrium, SM Megamall, Ortigas...</td>\n      <td>SM Megamall, Ortigas, Mandaluyong City</td>\n      <td>SM Megamall, Ortigas, Mandaluyong City, Mandal...</td>\n      <td>121.057508</td>\n      <td>14.584450</td>\n      <td>Japanese, Korean</td>\n      <td>...</td>\n      <td>Botswana Pula(P)</td>\n      <td>Yes</td>\n      <td>No</td>\n      <td>No</td>\n      <td>No</td>\n      <td>4</td>\n      <td>4.8</td>\n      <td>Dark Green</td>\n      <td>Excellent</td>\n      <td>229</td>\n    </tr>\n  </tbody>\n</table>\n<p>5 rows × 21 columns</p>\n</div>"
     },
     "execution_count": 4,
     "metadata": {},
     "output_type": "execute_result"
    }
   ],
   "source": [
    "df.head()"
   ],
   "metadata": {
    "collapsed": false,
    "pycharm": {
     "name": "#%%\n"
    }
   }
  },
  {
   "cell_type": "code",
   "execution_count": 6,
   "outputs": [
    {
     "data": {
      "text/plain": "(9551, 21)"
     },
     "execution_count": 6,
     "metadata": {},
     "output_type": "execute_result"
    }
   ],
   "source": [
    "df.shape"
   ],
   "metadata": {
    "collapsed": false,
    "pycharm": {
     "name": "#%%\n"
    }
   }
  },
  {
   "cell_type": "code",
   "execution_count": 7,
   "outputs": [
    {
     "data": {
      "text/plain": "Index(['Restaurant ID', 'Restaurant Name', 'Country Code', 'City', 'Address',\n       'Locality', 'Locality Verbose', 'Longitude', 'Latitude', 'Cuisines',\n       'Average Cost for two', 'Currency', 'Has Table booking',\n       'Has Online delivery', 'Is delivering now', 'Switch to order menu',\n       'Price range', 'Aggregate rating', 'Rating color', 'Rating text',\n       'Votes'],\n      dtype='object')"
     },
     "execution_count": 7,
     "metadata": {},
     "output_type": "execute_result"
    }
   ],
   "source": [
    "df.columns"
   ],
   "metadata": {
    "collapsed": false,
    "pycharm": {
     "name": "#%%\n"
    }
   }
  },
  {
   "cell_type": "code",
   "execution_count": 10,
   "outputs": [
    {
     "name": "stdout",
     "output_type": "stream",
     "text": [
      "<class 'pandas.core.frame.DataFrame'>\n",
      "RangeIndex: 9551 entries, 0 to 9550\n",
      "Data columns (total 21 columns):\n",
      " #   Column                Non-Null Count  Dtype  \n",
      "---  ------                --------------  -----  \n",
      " 0   Restaurant ID         9551 non-null   int64  \n",
      " 1   Restaurant Name       9551 non-null   object \n",
      " 2   Country Code          9551 non-null   int64  \n",
      " 3   City                  9551 non-null   object \n",
      " 4   Address               9551 non-null   object \n",
      " 5   Locality              9551 non-null   object \n",
      " 6   Locality Verbose      9551 non-null   object \n",
      " 7   Longitude             9551 non-null   float64\n",
      " 8   Latitude              9551 non-null   float64\n",
      " 9   Cuisines              9542 non-null   object \n",
      " 10  Average Cost for two  9551 non-null   int64  \n",
      " 11  Currency              9551 non-null   object \n",
      " 12  Has Table booking     9551 non-null   object \n",
      " 13  Has Online delivery   9551 non-null   object \n",
      " 14  Is delivering now     9551 non-null   object \n",
      " 15  Switch to order menu  9551 non-null   object \n",
      " 16  Price range           9551 non-null   int64  \n",
      " 17  Aggregate rating      9551 non-null   float64\n",
      " 18  Rating color          9551 non-null   object \n",
      " 19  Rating text           9551 non-null   object \n",
      " 20  Votes                 9551 non-null   int64  \n",
      "dtypes: float64(3), int64(5), object(13)\n",
      "memory usage: 1.5+ MB\n"
     ]
    }
   ],
   "source": [
    "df.info()"
   ],
   "metadata": {
    "collapsed": false,
    "pycharm": {
     "name": "#%%\n"
    }
   }
  },
  {
   "cell_type": "markdown",
   "source": [
    "df.describe()"
   ],
   "metadata": {
    "collapsed": false,
    "pycharm": {
     "name": "#%% md\n"
    }
   }
  },
  {
   "cell_type": "code",
   "execution_count": 11,
   "outputs": [
    {
     "data": {
      "text/plain": "       Restaurant ID  Country Code    Longitude     Latitude  \\\ncount   9.551000e+03   9551.000000  9551.000000  9551.000000   \nmean    9.051128e+06     18.365616    64.126574    25.854381   \nstd     8.791521e+06     56.750546    41.467058    11.007935   \nmin     5.300000e+01      1.000000  -157.948486   -41.330428   \n25%     3.019625e+05      1.000000    77.081343    28.478713   \n50%     6.004089e+06      1.000000    77.191964    28.570469   \n75%     1.835229e+07      1.000000    77.282006    28.642758   \nmax     1.850065e+07    216.000000   174.832089    55.976980   \n\n       Average Cost for two  Price range  Aggregate rating         Votes  \ncount           9551.000000  9551.000000       9551.000000   9551.000000  \nmean            1199.210763     1.804837          2.666370    156.909748  \nstd            16121.183073     0.905609          1.516378    430.169145  \nmin                0.000000     1.000000          0.000000      0.000000  \n25%              250.000000     1.000000          2.500000      5.000000  \n50%              400.000000     2.000000          3.200000     31.000000  \n75%              700.000000     2.000000          3.700000    131.000000  \nmax           800000.000000     4.000000          4.900000  10934.000000  ",
      "text/html": "<div>\n<style scoped>\n    .dataframe tbody tr th:only-of-type {\n        vertical-align: middle;\n    }\n\n    .dataframe tbody tr th {\n        vertical-align: top;\n    }\n\n    .dataframe thead th {\n        text-align: right;\n    }\n</style>\n<table border=\"1\" class=\"dataframe\">\n  <thead>\n    <tr style=\"text-align: right;\">\n      <th></th>\n      <th>Restaurant ID</th>\n      <th>Country Code</th>\n      <th>Longitude</th>\n      <th>Latitude</th>\n      <th>Average Cost for two</th>\n      <th>Price range</th>\n      <th>Aggregate rating</th>\n      <th>Votes</th>\n    </tr>\n  </thead>\n  <tbody>\n    <tr>\n      <th>count</th>\n      <td>9.551000e+03</td>\n      <td>9551.000000</td>\n      <td>9551.000000</td>\n      <td>9551.000000</td>\n      <td>9551.000000</td>\n      <td>9551.000000</td>\n      <td>9551.000000</td>\n      <td>9551.000000</td>\n    </tr>\n    <tr>\n      <th>mean</th>\n      <td>9.051128e+06</td>\n      <td>18.365616</td>\n      <td>64.126574</td>\n      <td>25.854381</td>\n      <td>1199.210763</td>\n      <td>1.804837</td>\n      <td>2.666370</td>\n      <td>156.909748</td>\n    </tr>\n    <tr>\n      <th>std</th>\n      <td>8.791521e+06</td>\n      <td>56.750546</td>\n      <td>41.467058</td>\n      <td>11.007935</td>\n      <td>16121.183073</td>\n      <td>0.905609</td>\n      <td>1.516378</td>\n      <td>430.169145</td>\n    </tr>\n    <tr>\n      <th>min</th>\n      <td>5.300000e+01</td>\n      <td>1.000000</td>\n      <td>-157.948486</td>\n      <td>-41.330428</td>\n      <td>0.000000</td>\n      <td>1.000000</td>\n      <td>0.000000</td>\n      <td>0.000000</td>\n    </tr>\n    <tr>\n      <th>25%</th>\n      <td>3.019625e+05</td>\n      <td>1.000000</td>\n      <td>77.081343</td>\n      <td>28.478713</td>\n      <td>250.000000</td>\n      <td>1.000000</td>\n      <td>2.500000</td>\n      <td>5.000000</td>\n    </tr>\n    <tr>\n      <th>50%</th>\n      <td>6.004089e+06</td>\n      <td>1.000000</td>\n      <td>77.191964</td>\n      <td>28.570469</td>\n      <td>400.000000</td>\n      <td>2.000000</td>\n      <td>3.200000</td>\n      <td>31.000000</td>\n    </tr>\n    <tr>\n      <th>75%</th>\n      <td>1.835229e+07</td>\n      <td>1.000000</td>\n      <td>77.282006</td>\n      <td>28.642758</td>\n      <td>700.000000</td>\n      <td>2.000000</td>\n      <td>3.700000</td>\n      <td>131.000000</td>\n    </tr>\n    <tr>\n      <th>max</th>\n      <td>1.850065e+07</td>\n      <td>216.000000</td>\n      <td>174.832089</td>\n      <td>55.976980</td>\n      <td>800000.000000</td>\n      <td>4.000000</td>\n      <td>4.900000</td>\n      <td>10934.000000</td>\n    </tr>\n  </tbody>\n</table>\n</div>"
     },
     "execution_count": 11,
     "metadata": {},
     "output_type": "execute_result"
    }
   ],
   "source": [
    "df.describe()"
   ],
   "metadata": {
    "collapsed": false,
    "pycharm": {
     "name": "#%%\n"
    }
   }
  },
  {
   "cell_type": "markdown",
   "source": [
    "In Data Analysis what all things we do\n",
    "1. missing values\n",
    "2. explore about numerical variables\n",
    "3. explore about categorical variables\n",
    "4. finding relationship btw features"
   ],
   "metadata": {
    "collapsed": false,
    "pycharm": {
     "name": "#%% md\n"
    }
   }
  },
  {
   "cell_type": "code",
   "execution_count": 12,
   "outputs": [
    {
     "data": {
      "text/plain": "Restaurant ID           0\nRestaurant Name         0\nCountry Code            0\nCity                    0\nAddress                 0\nLocality                0\nLocality Verbose        0\nLongitude               0\nLatitude                0\nCuisines                9\nAverage Cost for two    0\nCurrency                0\nHas Table booking       0\nHas Online delivery     0\nIs delivering now       0\nSwitch to order menu    0\nPrice range             0\nAggregate rating        0\nRating color            0\nRating text             0\nVotes                   0\ndtype: int64"
     },
     "execution_count": 12,
     "metadata": {},
     "output_type": "execute_result"
    }
   ],
   "source": [
    "# to find out null values\n",
    "df.isnull().sum()"
   ],
   "metadata": {
    "collapsed": false,
    "pycharm": {
     "name": "#%%\n"
    }
   }
  },
  {
   "cell_type": "code",
   "execution_count": 14,
   "outputs": [
    {
     "data": {
      "text/plain": "['Cuisines']"
     },
     "execution_count": 14,
     "metadata": {},
     "output_type": "execute_result"
    }
   ],
   "source": [
    "#another way of finding null values\n",
    "[features for features in df.columns if df[features].isnull().sum()>0]"
   ],
   "metadata": {
    "collapsed": false,
    "pycharm": {
     "name": "#%%\n"
    }
   }
  },
  {
   "cell_type": "code",
   "execution_count": 56,
   "outputs": [
    {
     "data": {
      "text/plain": "<AxesSubplot:>"
     },
     "execution_count": 56,
     "metadata": {},
     "output_type": "execute_result"
    },
    {
     "data": {
      "text/plain": "<Figure size 864x432 with 1 Axes>",
      "image/png": "[encoded data removed]"
     },
     "metadata": {
      "needs_background": "light"
     },
     "output_type": "display_data"
    }
   ],
   "source": [
    "# finding null values through heatmap\n",
    "sns.heatmap(df.isnull(),yticklabels=False,cbar=False,cmap='viridis')"
   ],
   "metadata": {
    "collapsed": false,
    "pycharm": {
     "name": "#%%\n"
    }
   }
  },
  {
   "cell_type": "code",
   "execution_count": 23,
   "outputs": [],
   "source": [
    "df_country=pd.read_excel(r\"Country-Code.xlsx\")"
   ],
   "metadata": {
    "collapsed": false,
    "pycharm": {
     "name": "#%%\n"
    }
   }
  },
  {
   "cell_type": "code",
   "execution_count": 24,
   "outputs": [
    {
     "data": {
      "text/plain": "   Country Code    Country\n0             1      India\n1            14  Australia\n2            30     Brazil\n3            37     Canada\n4            94  Indonesia",
      "text/html": "<div>\n<style scoped>\n    .dataframe tbody tr th:only-of-type {\n        vertical-align: middle;\n    }\n\n    .dataframe tbody tr th {\n        vertical-align: top;\n    }\n\n    .dataframe thead th {\n        text-align: right;\n    }\n</style>\n<table border=\"1\" class=\"dataframe\">\n  <thead>\n    <tr style=\"text-align: right;\">\n      <th></th>\n      <th>Country Code</th>\n      <th>Country</th>\n    </tr>\n  </thead>\n  <tbody>\n    <tr>\n      <th>0</th>\n      <td>1</td>\n      <td>India</td>\n    </tr>\n    <tr>\n      <th>1</th>\n      <td>14</td>\n      <td>Australia</td>\n    </tr>\n    <tr>\n      <th>2</th>\n      <td>30</td>\n      <td>Brazil</td>\n    </tr>\n    <tr>\n      <th>3</th>\n      <td>37</td>\n      <td>Canada</td>\n    </tr>\n    <tr>\n      <th>4</th>\n      <td>94</td>\n      <td>Indonesia</td>\n    </tr>\n  </tbody>\n</table>\n</div>"
     },
     "execution_count": 24,
     "metadata": {},
     "output_type": "execute_result"
    }
   ],
   "source": [
    "df_country.head()"
   ],
   "metadata": {
    "collapsed": false,
    "pycharm": {
     "name": "#%%\n"
    }
   }
  },
  {
   "cell_type": "code",
   "execution_count": 25,
   "outputs": [
    {
     "data": {
      "text/plain": "Index(['Restaurant ID', 'Restaurant Name', 'Country Code', 'City', 'Address',\n       'Locality', 'Locality Verbose', 'Longitude', 'Latitude', 'Cuisines',\n       'Average Cost for two', 'Currency', 'Has Table booking',\n       'Has Online delivery', 'Is delivering now', 'Switch to order menu',\n       'Price range', 'Aggregate rating', 'Rating color', 'Rating text',\n       'Votes'],\n      dtype='object')"
     },
     "execution_count": 25,
     "metadata": {},
     "output_type": "execute_result"
    }
   ],
   "source": [
    "df.columns"
   ],
   "metadata": {
    "collapsed": false,
    "pycharm": {
     "name": "#%%\n"
    }
   }
  },
  {
   "cell_type": "code",
   "execution_count": 28,
   "outputs": [],
   "source": [
    "finaldf=pd.merge(df,df_country,on='Country Code',how='left')"
   ],
   "metadata": {
    "collapsed": false,
    "pycharm": {
     "name": "#%%\n"
    }
   }
  },
  {
   "cell_type": "code",
   "execution_count": 30,
   "outputs": [
    {
     "data": {
      "text/plain": "   Restaurant ID         Restaurant Name  Country Code              City  \\\n0        6317637        Le Petit Souffle           162       Makati City   \n1        6304287        Izakaya Kikufuji           162       Makati City   \n2        6300002  Heat - Edsa Shangri-La           162  Mandaluyong City   \n3        6318506                    Ooma           162  Mandaluyong City   \n4        6314302             Sambo Kojin           162  Mandaluyong City   \n\n                                             Address  \\\n0  Third Floor, Century City Mall, Kalayaan Avenu...   \n1  Little Tokyo, 2277 Chino Roces Avenue, Legaspi...   \n2  Edsa Shangri-La, 1 Garden Way, Ortigas, Mandal...   \n3  Third Floor, Mega Fashion Hall, SM Megamall, O...   \n4  Third Floor, Mega Atrium, SM Megamall, Ortigas...   \n\n                                     Locality  \\\n0   Century City Mall, Poblacion, Makati City   \n1  Little Tokyo, Legaspi Village, Makati City   \n2  Edsa Shangri-La, Ortigas, Mandaluyong City   \n3      SM Megamall, Ortigas, Mandaluyong City   \n4      SM Megamall, Ortigas, Mandaluyong City   \n\n                                    Locality Verbose   Longitude   Latitude  \\\n0  Century City Mall, Poblacion, Makati City, Mak...  121.027535  14.565443   \n1  Little Tokyo, Legaspi Village, Makati City, Ma...  121.014101  14.553708   \n2  Edsa Shangri-La, Ortigas, Mandaluyong City, Ma...  121.056831  14.581404   \n3  SM Megamall, Ortigas, Mandaluyong City, Mandal...  121.056475  14.585318   \n4  SM Megamall, Ortigas, Mandaluyong City, Mandal...  121.057508  14.584450   \n\n                           Cuisines  ...  Has Table booking  \\\n0        French, Japanese, Desserts  ...                Yes   \n1                          Japanese  ...                Yes   \n2  Seafood, Asian, Filipino, Indian  ...                Yes   \n3                   Japanese, Sushi  ...                 No   \n4                  Japanese, Korean  ...                Yes   \n\n  Has Online delivery Is delivering now Switch to order menu Price range  \\\n0                  No                No                   No           3   \n1                  No                No                   No           3   \n2                  No                No                   No           4   \n3                  No                No                   No           4   \n4                  No                No                   No           4   \n\n  Aggregate rating  Rating color  Rating text Votes      Country  \n0              4.8    Dark Green    Excellent   314  Phillipines  \n1              4.5    Dark Green    Excellent   591  Phillipines  \n2              4.4         Green    Very Good   270  Phillipines  \n3              4.9    Dark Green    Excellent   365  Phillipines  \n4              4.8    Dark Green    Excellent   229  Phillipines  \n\n[5 rows x 22 columns]",
      "text/html": "<div>\n<style scoped>\n    .dataframe tbody tr th:only-of-type {\n        vertical-align: middle;\n    }\n\n    .dataframe tbody tr th {\n        vertical-align: top;\n    }\n\n    .dataframe thead th {\n        text-align: right;\n    }\n</style>\n<table border=\"1\" class=\"dataframe\">\n  <thead>\n    <tr style=\"text-align: right;\">\n      <th></th>\n      <th>Restaurant ID</th>\n      <th>Restaurant Name</th>\n      <th>Country Code</th>\n      <th>City</th>\n      <th>Address</th>\n      <th>Locality</th>\n      <th>Locality Verbose</th>\n      <th>Longitude</th>\n      <th>Latitude</th>\n      <th>Cuisines</th>\n      <th>...</th>\n      <th>Has Table booking</th>\n      <th>Has Online delivery</th>\n      <th>Is delivering now</th>\n      <th>Switch to order menu</th>\n      <th>Price range</th>\n      <th>Aggregate rating</th>\n      <th>Rating color</th>\n      <th>Rating text</th>\n      <th>Votes</th>\n      <th>Country</th>\n    </tr>\n  </thead>\n  <tbody>\n    <tr>\n      <th>0</th>\n      <td>6317637</td>\n      <td>Le Petit Souffle</td>\n      <td>162</td>\n      <td>Makati City</td>\n      <td>Third Floor, Century City Mall, Kalayaan Avenu...</td>\n      <td>Century City Mall, Poblacion, Makati City</td>\n      <td>Century City Mall, Poblacion, Makati City, Mak...</td>\n      <td>121.027535</td>\n      <td>14.565443</td>\n      <td>French, Japanese, Desserts</td>\n      <td>...</td>\n      <td>Yes</td>\n      <td>No</td>\n      <td>No</td>\n      <td>No</td>\n      <td>3</td>\n      <td>4.8</td>\n      <td>Dark Green</td>\n      <td>Excellent</td>\n      <td>314</td>\n      <td>Phillipines</td>\n    </tr>\n    <tr>\n      <th>1</th>\n      <td>6304287</td>\n      <td>Izakaya Kikufuji</td>\n      <td>162</td>\n      <td>Makati City</td>\n      <td>Little Tokyo, 2277 Chino Roces Avenue, Legaspi...</td>\n      <td>Little Tokyo, Legaspi Village, Makati City</td>\n      <td>Little Tokyo, Legaspi Village, Makati City, Ma...</td>\n      <td>121.014101</td>\n      <td>14.553708</td>\n      <td>Japanese</td>\n      <td>...</td>\n      <td>Yes</td>\n      <td>No</td>\n      <td>No</td>\n      <td>No</td>\n      <td>3</td>\n      <td>4.5</td>\n      <td>Dark Green</td>\n      <td>Excellent</td>\n      <td>591</td>\n      <td>Phillipines</td>\n    </tr>\n    <tr>\n      <th>2</th>\n      <td>6300002</td>\n      <td>Heat - Edsa Shangri-La</td>\n      <td>162</td>\n      <td>Mandaluyong City</td>\n      <td>Edsa Shangri-La, 1 Garden Way, Ortigas, Mandal...</td>\n      <td>Edsa Shangri-La, Ortigas, Mandaluyong City</td>\n      <td>Edsa Shangri-La, Ortigas, Mandaluyong City, Ma...</td>\n      <td>121.056831</td>\n      <td>14.581404</td>\n      <td>Seafood, Asian, Filipino, Indian</td>\n      <td>...</td>\n      <td>Yes</td>\n      <td>No</td>\n      <td>No</td>\n      <td>No</td>\n      <td>4</td>\n      <td>4.4</td>\n      <td>Green</td>\n      <td>Very Good</td>\n      <td>270</td>\n      <td>Phillipines</td>\n    </tr>\n    <tr>\n      <th>3</th>\n      <td>6318506</td>\n      <td>Ooma</td>\n      <td>162</td>\n      <td>Mandaluyong City</td>\n      <td>Third Floor, Mega Fashion Hall, SM Megamall, O...</td>\n      <td>SM Megamall, Ortigas, Mandaluyong City</td>\n      <td>SM Megamall, Ortigas, Mandaluyong City, Mandal...</td>\n      <td>121.056475</td>\n      <td>14.585318</td>\n      <td>Japanese, Sushi</td>\n      <td>...</td>\n      <td>No</td>\n      <td>No</td>\n      <td>No</td>\n      <td>No</td>\n      <td>4</td>\n      <td>4.9</td>\n      <td>Dark Green</td>\n      <td>Excellent</td>\n      <td>365</td>\n      <td>Phillipines</td>\n    </tr>\n    <tr>\n      <th>4</th>\n      <td>6314302</td>\n      <td>Sambo Kojin</td>\n      <td>162</td>\n      <td>Mandaluyong City</td>\n      <td>Third Floor, Mega Atrium, SM Megamall, Ortigas...</td>\n      <td>SM Megamall, Ortigas, Mandaluyong City</td>\n      <td>SM Megamall, Ortigas, Mandaluyong City, Mandal...</td>\n      <td>121.057508</td>\n      <td>14.584450</td>\n      <td>Japanese, Korean</td>\n      <td>...</td>\n      <td>Yes</td>\n      <td>No</td>\n      <td>No</td>\n      <td>No</td>\n      <td>4</td>\n      <td>4.8</td>\n      <td>Dark Green</td>\n      <td>Excellent</td>\n      <td>229</td>\n      <td>Phillipines</td>\n    </tr>\n  </tbody>\n</table>\n<p>5 rows × 22 columns</p>\n</div>"
     },
     "execution_count": 30,
     "metadata": {},
     "output_type": "execute_result"
    }
   ],
   "source": [
    "finaldf.head()"
   ],
   "metadata": {
    "collapsed": false,
    "pycharm": {
     "name": "#%%\n"
    }
   }
  },
  {
   "cell_type": "code",
   "execution_count": 31,
   "outputs": [
    {
     "data": {
      "text/plain": "Restaurant ID             int64\nRestaurant Name          object\nCountry Code              int64\nCity                     object\nAddress                  object\nLocality                 object\nLocality Verbose         object\nLongitude               float64\nLatitude                float64\nCuisines                 object\nAverage Cost for two      int64\nCurrency                 object\nHas Table booking        object\nHas Online delivery      object\nIs delivering now        object\nSwitch to order menu     object\nPrice range               int64\nAggregate rating        float64\nRating color             object\nRating text              object\nVotes                     int64\nCountry                  object\ndtype: object"
     },
     "execution_count": 31,
     "metadata": {},
     "output_type": "execute_result"
    }
   ],
   "source": [
    "#to check data types\n",
    "finaldf.dtypes"
   ],
   "metadata": {
    "collapsed": false,
    "pycharm": {
     "name": "#%%\n"
    }
   }
  },
  {
   "cell_type": "code",
   "execution_count": 32,
   "outputs": [
    {
     "data": {
      "text/plain": "Index(['Restaurant ID', 'Restaurant Name', 'Country Code', 'City', 'Address',\n       'Locality', 'Locality Verbose', 'Longitude', 'Latitude', 'Cuisines',\n       'Average Cost for two', 'Currency', 'Has Table booking',\n       'Has Online delivery', 'Is delivering now', 'Switch to order menu',\n       'Price range', 'Aggregate rating', 'Rating color', 'Rating text',\n       'Votes', 'Country'],\n      dtype='object')"
     },
     "execution_count": 32,
     "metadata": {},
     "output_type": "execute_result"
    }
   ],
   "source": [
    "finaldf.columns"
   ],
   "metadata": {
    "collapsed": false,
    "pycharm": {
     "name": "#%%\n"
    }
   }
  },
  {
   "cell_type": "code",
   "execution_count": 33,
   "outputs": [
    {
     "data": {
      "text/plain": "India             8652\nUnited States      434\nUnited Kingdom      80\nBrazil              60\nUAE                 60\nSouth Africa        60\nNew Zealand         40\nTurkey              34\nAustralia           24\nPhillipines         22\nIndonesia           21\nSingapore           20\nQatar               20\nSri Lanka           20\nCanada               4\nName: Country, dtype: int64"
     },
     "execution_count": 33,
     "metadata": {},
     "output_type": "execute_result"
    }
   ],
   "source": [
    "# to find out how many countries are there and how many records are their wrt to these countries\n",
    "finaldf.Country.value_counts()"
   ],
   "metadata": {
    "collapsed": false,
    "pycharm": {
     "name": "#%%\n"
    }
   }
  },
  {
   "cell_type": "code",
   "execution_count": 36,
   "outputs": [
    {
     "data": {
      "text/plain": "Index(['India', 'United States', 'United Kingdom', 'Brazil', 'UAE',\n       'South Africa', 'New Zealand', 'Turkey', 'Australia', 'Phillipines',\n       'Indonesia', 'Singapore', 'Qatar', 'Sri Lanka', 'Canada'],\n      dtype='object')"
     },
     "execution_count": 36,
     "metadata": {},
     "output_type": "execute_result"
    }
   ],
   "source": [
    "# to just get names and not counts of records\n",
    "countrynames=finaldf.Country.value_counts().index\n",
    "countrynames"
   ],
   "metadata": {
    "collapsed": false,
    "pycharm": {
     "name": "#%%\n"
    }
   }
  },
  {
   "cell_type": "code",
   "execution_count": 39,
   "outputs": [
    {
     "data": {
      "text/plain": "array([8652,  434,   80,   60,   60,   60,   40,   34,   24,   22,   21,\n         20,   20,   20,    4], dtype=int64)"
     },
     "execution_count": 39,
     "metadata": {},
     "output_type": "execute_result"
    }
   ],
   "source": [
    "# to get records\n",
    "countryvalues=finaldf.Country.value_counts().values\n",
    "countryvalues"
   ],
   "metadata": {
    "collapsed": false,
    "pycharm": {
     "name": "#%%\n"
    }
   }
  },
  {
   "cell_type": "code",
   "execution_count": 57,
   "outputs": [
    {
     "data": {
      "text/plain": "<Figure size 864x432 with 1 Axes>",
      "image/png": "[encoded data removed]"
     },
     "metadata": {},
     "output_type": "display_data"
    }
   ],
   "source": [
    "# pie chart\n",
    "plt.pie(countryvalues,labels=countrynames)\n",
    "plt.show()"
   ],
   "metadata": {
    "collapsed": false,
    "pycharm": {
     "name": "#%%\n"
    }
   }
  },
  {
   "cell_type": "code",
   "execution_count": 58,
   "outputs": [
    {
     "data": {
      "text/plain": "<Figure size 864x432 with 1 Axes>",
      "image/png": "[encoded data removed]"
     },
     "metadata": {},
     "output_type": "display_data"
    }
   ],
   "source": [
    "# pie chart - top 3 countries\n",
    "plt.pie(countryvalues[:3],labels=countrynames[:3],autopct='%0.1f%%')\n",
    "plt.show()"
   ],
   "metadata": {
    "collapsed": false,
    "pycharm": {
     "name": "#%%\n"
    }
   }
  },
  {
   "cell_type": "markdown",
   "source": [
    "Observation: Maximum records or transactions are from India. After that USA and then United Kingdom"
   ],
   "metadata": {
    "collapsed": false,
    "pycharm": {
     "name": "#%% md\n"
    }
   }
  },
  {
   "cell_type": "markdown",
   "source": [
    "Exploring about numerical variables"
   ],
   "metadata": {
    "collapsed": false,
    "pycharm": {
     "name": "#%% md\n"
    }
   }
  },
  {
   "cell_type": "code",
   "execution_count": 43,
   "outputs": [
    {
     "data": {
      "text/plain": "Index(['Restaurant ID', 'Restaurant Name', 'Country Code', 'City', 'Address',\n       'Locality', 'Locality Verbose', 'Longitude', 'Latitude', 'Cuisines',\n       'Average Cost for two', 'Currency', 'Has Table booking',\n       'Has Online delivery', 'Is delivering now', 'Switch to order menu',\n       'Price range', 'Aggregate rating', 'Rating color', 'Rating text',\n       'Votes', 'Country'],\n      dtype='object')"
     },
     "execution_count": 43,
     "metadata": {},
     "output_type": "execute_result"
    }
   ],
   "source": [
    "finaldf.columns"
   ],
   "metadata": {
    "collapsed": false,
    "pycharm": {
     "name": "#%%\n"
    }
   }
  },
  {
   "cell_type": "code",
   "execution_count": 45,
   "outputs": [
    {
     "data": {
      "text/plain": "Aggregate rating  Rating color  Rating text\n0.0               White         Not rated      2148\n1.8               Red           Poor              1\n1.9               Red           Poor              2\n2.0               Red           Poor              7\n2.1               Red           Poor             15\n2.2               Red           Poor             27\n2.3               Red           Poor             47\n2.4               Red           Poor             87\n2.5               Orange        Average         110\n2.6               Orange        Average         191\n2.7               Orange        Average         250\n2.8               Orange        Average         315\n2.9               Orange        Average         381\n3.0               Orange        Average         468\n3.1               Orange        Average         519\n3.2               Orange        Average         522\n3.3               Orange        Average         483\n3.4               Orange        Average         498\n3.5               Yellow        Good            480\n3.6               Yellow        Good            458\n3.7               Yellow        Good            427\n3.8               Yellow        Good            400\n3.9               Yellow        Good            335\n4.0               Green         Very Good       266\n4.1               Green         Very Good       274\n4.2               Green         Very Good       221\n4.3               Green         Very Good       174\n4.4               Green         Very Good       144\n4.5               Dark Green    Excellent        95\n4.6               Dark Green    Excellent        78\n4.7               Dark Green    Excellent        42\n4.8               Dark Green    Excellent        25\n4.9               Dark Green    Excellent        61\ndtype: int64"
     },
     "execution_count": 45,
     "metadata": {},
     "output_type": "execute_result"
    }
   ],
   "source": [
    "finaldf.groupby(['Aggregate rating','Rating color','Rating text']).size()"
   ],
   "metadata": {
    "collapsed": false,
    "pycharm": {
     "name": "#%%\n"
    }
   }
  },
  {
   "cell_type": "code",
   "execution_count": 48,
   "outputs": [
    {
     "data": {
      "text/plain": "    Aggregate rating Rating color Rating text     0\n0                0.0        White   Not rated  2148\n1                1.8          Red        Poor     1\n2                1.9          Red        Poor     2\n3                2.0          Red        Poor     7\n4                2.1          Red        Poor    15\n5                2.2          Red        Poor    27\n6                2.3          Red        Poor    47\n7                2.4          Red        Poor    87\n8                2.5       Orange     Average   110\n9                2.6       Orange     Average   191\n10               2.7       Orange     Average   250\n11               2.8       Orange     Average   315\n12               2.9       Orange     Average   381\n13               3.0       Orange     Average   468\n14               3.1       Orange     Average   519\n15               3.2       Orange     Average   522\n16               3.3       Orange     Average   483\n17               3.4       Orange     Average   498\n18               3.5       Yellow        Good   480\n19               3.6       Yellow        Good   458\n20               3.7       Yellow        Good   427\n21               3.8       Yellow        Good   400\n22               3.9       Yellow        Good   335\n23               4.0        Green   Very Good   266\n24               4.1        Green   Very Good   274\n25               4.2        Green   Very Good   221\n26               4.3        Green   Very Good   174\n27               4.4        Green   Very Good   144\n28               4.5   Dark Green   Excellent    95\n29               4.6   Dark Green   Excellent    78\n30               4.7   Dark Green   Excellent    42\n31               4.8   Dark Green   Excellent    25\n32               4.9   Dark Green   Excellent    61",
      "text/html": "<div>\n<style scoped>\n    .dataframe tbody tr th:only-of-type {\n        vertical-align: middle;\n    }\n\n    .dataframe tbody tr th {\n        vertical-align: top;\n    }\n\n    .dataframe thead th {\n        text-align: right;\n    }\n</style>\n<table border=\"1\" class=\"dataframe\">\n  <thead>\n    <tr style=\"text-align: right;\">\n      <th></th>\n      <th>Aggregate rating</th>\n      <th>Rating color</th>\n      <th>Rating text</th>\n      <th>0</th>\n    </tr>\n  </thead>\n  <tbody>\n    <tr>\n      <th>0</th>\n      <td>0.0</td>\n      <td>White</td>\n      <td>Not rated</td>\n      <td>2148</td>\n    </tr>\n    <tr>\n      <th>1</th>\n      <td>1.8</td>\n      <td>Red</td>\n      <td>Poor</td>\n      <td>1</td>\n    </tr>\n    <tr>\n      <th>2</th>\n      <td>1.9</td>\n      <td>Red</td>\n      <td>Poor</td>\n      <td>2</td>\n    </tr>\n    <tr>\n      <th>3</th>\n      <td>2.0</td>\n      <td>Red</td>\n      <td>Poor</td>\n      <td>7</td>\n    </tr>\n    <tr>\n      <th>4</th>\n      <td>2.1</td>\n      <td>Red</td>\n      <td>Poor</td>\n      <td>15</td>\n    </tr>\n    <tr>\n      <th>5</th>\n      <td>2.2</td>\n      <td>Red</td>\n      <td>Poor</td>\n      <td>27</td>\n    </tr>\n    <tr>\n      <th>6</th>\n      <td>2.3</td>\n      <td>Red</td>\n      <td>Poor</td>\n      <td>47</td>\n    </tr>\n    <tr>\n      <th>7</th>\n      <td>2.4</td>\n      <td>Red</td>\n      <td>Poor</td>\n      <td>87</td>\n    </tr>\n    <tr>\n      <th>8</th>\n      <td>2.5</td>\n      <td>Orange</td>\n      <td>Average</td>\n      <td>110</td>\n    </tr>\n    <tr>\n      <th>9</th>\n      <td>2.6</td>\n      <td>Orange</td>\n      <td>Average</td>\n      <td>191</td>\n    </tr>\n    <tr>\n      <th>10</th>\n      <td>2.7</td>\n      <td>Orange</td>\n      <td>Average</td>\n      <td>250</td>\n    </tr>\n    <tr>\n      <th>11</th>\n      <td>2.8</td>\n      <td>Orange</td>\n      <td>Average</td>\n      <td>315</td>\n    </tr>\n    <tr>\n      <th>12</th>\n      <td>2.9</td>\n      <td>Orange</td>\n      <td>Average</td>\n      <td>381</td>\n    </tr>\n    <tr>\n      <th>13</th>\n      <td>3.0</td>\n      <td>Orange</td>\n      <td>Average</td>\n      <td>468</td>\n    </tr>\n    <tr>\n      <th>14</th>\n      <td>3.1</td>\n      <td>Orange</td>\n      <td>Average</td>\n      <td>519</td>\n    </tr>\n    <tr>\n      <th>15</th>\n      <td>3.2</td>\n      <td>Orange</td>\n      <td>Average</td>\n      <td>522</td>\n    </tr>\n    <tr>\n      <th>16</th>\n      <td>3.3</td>\n      <td>Orange</td>\n      <td>Average</td>\n      <td>483</td>\n    </tr>\n    <tr>\n      <th>17</th>\n      <td>3.4</td>\n      <td>Orange</td>\n      <td>Average</td>\n      <td>498</td>\n    </tr>\n    <tr>\n      <th>18</th>\n      <td>3.5</td>\n      <td>Yellow</td>\n      <td>Good</td>\n      <td>480</td>\n    </tr>\n    <tr>\n      <th>19</th>\n      <td>3.6</td>\n      <td>Yellow</td>\n      <td>Good</td>\n      <td>458</td>\n    </tr>\n    <tr>\n      <th>20</th>\n      <td>3.7</td>\n      <td>Yellow</td>\n      <td>Good</td>\n      <td>427</td>\n    </tr>\n    <tr>\n      <th>21</th>\n      <td>3.8</td>\n      <td>Yellow</td>\n      <td>Good</td>\n      <td>400</td>\n    </tr>\n    <tr>\n      <th>22</th>\n      <td>3.9</td>\n      <td>Yellow</td>\n      <td>Good</td>\n      <td>335</td>\n    </tr>\n    <tr>\n      <th>23</th>\n      <td>4.0</td>\n      <td>Green</td>\n      <td>Very Good</td>\n      <td>266</td>\n    </tr>\n    <tr>\n      <th>24</th>\n      <td>4.1</td>\n      <td>Green</td>\n      <td>Very Good</td>\n      <td>274</td>\n    </tr>\n    <tr>\n      <th>25</th>\n      <td>4.2</td>\n      <td>Green</td>\n      <td>Very Good</td>\n      <td>221</td>\n    </tr>\n    <tr>\n      <th>26</th>\n      <td>4.3</td>\n      <td>Green</td>\n      <td>Very Good</td>\n      <td>174</td>\n    </tr>\n    <tr>\n      <th>27</th>\n      <td>4.4</td>\n      <td>Green</td>\n      <td>Very Good</td>\n      <td>144</td>\n    </tr>\n    <tr>\n      <th>28</th>\n      <td>4.5</td>\n      <td>Dark Green</td>\n      <td>Excellent</td>\n      <td>95</td>\n    </tr>\n    <tr>\n      <th>29</th>\n      <td>4.6</td>\n      <td>Dark Green</td>\n      <td>Excellent</td>\n      <td>78</td>\n    </tr>\n    <tr>\n      <th>30</th>\n      <td>4.7</td>\n      <td>Dark Green</td>\n      <td>Excellent</td>\n      <td>42</td>\n    </tr>\n    <tr>\n      <th>31</th>\n      <td>4.8</td>\n      <td>Dark Green</td>\n      <td>Excellent</td>\n      <td>25</td>\n    </tr>\n    <tr>\n      <th>32</th>\n      <td>4.9</td>\n      <td>Dark Green</td>\n      <td>Excellent</td>\n      <td>61</td>\n    </tr>\n  </tbody>\n</table>\n</div>"
     },
     "execution_count": 48,
     "metadata": {},
     "output_type": "execute_result"
    }
   ],
   "source": [
    "finaldf.groupby(['Aggregate rating','Rating color','Rating text']).size().reset_index()"
   ],
   "metadata": {
    "collapsed": false,
    "pycharm": {
     "name": "#%%\n"
    }
   }
  },
  {
   "cell_type": "code",
   "execution_count": 49,
   "outputs": [
    {
     "data": {
      "text/plain": "    Aggregate rating Rating color Rating text  Rating Count\n0                0.0        White   Not rated          2148\n1                1.8          Red        Poor             1\n2                1.9          Red        Poor             2\n3                2.0          Red        Poor             7\n4                2.1          Red        Poor            15\n5                2.2          Red        Poor            27\n6                2.3          Red        Poor            47\n7                2.4          Red        Poor            87\n8                2.5       Orange     Average           110\n9                2.6       Orange     Average           191\n10               2.7       Orange     Average           250\n11               2.8       Orange     Average           315\n12               2.9       Orange     Average           381\n13               3.0       Orange     Average           468\n14               3.1       Orange     Average           519\n15               3.2       Orange     Average           522\n16               3.3       Orange     Average           483\n17               3.4       Orange     Average           498\n18               3.5       Yellow        Good           480\n19               3.6       Yellow        Good           458\n20               3.7       Yellow        Good           427\n21               3.8       Yellow        Good           400\n22               3.9       Yellow        Good           335\n23               4.0        Green   Very Good           266\n24               4.1        Green   Very Good           274\n25               4.2        Green   Very Good           221\n26               4.3        Green   Very Good           174\n27               4.4        Green   Very Good           144\n28               4.5   Dark Green   Excellent            95\n29               4.6   Dark Green   Excellent            78\n30               4.7   Dark Green   Excellent            42\n31               4.8   Dark Green   Excellent            25\n32               4.9   Dark Green   Excellent            61",
      "text/html": "<div>\n<style scoped>\n    .dataframe tbody tr th:only-of-type {\n        vertical-align: middle;\n    }\n\n    .dataframe tbody tr th {\n        vertical-align: top;\n    }\n\n    .dataframe thead th {\n        text-align: right;\n    }\n</style>\n<table border=\"1\" class=\"dataframe\">\n  <thead>\n    <tr style=\"text-align: right;\">\n      <th></th>\n      <th>Aggregate rating</th>\n      <th>Rating color</th>\n      <th>Rating text</th>\n      <th>Rating Count</th>\n    </tr>\n  </thead>\n  <tbody>\n    <tr>\n      <th>0</th>\n      <td>0.0</td>\n      <td>White</td>\n      <td>Not rated</td>\n      <td>2148</td>\n    </tr>\n    <tr>\n      <th>1</th>\n      <td>1.8</td>\n      <td>Red</td>\n      <td>Poor</td>\n      <td>1</td>\n    </tr>\n    <tr>\n      <th>2</th>\n      <td>1.9</td>\n      <td>Red</td>\n      <td>Poor</td>\n      <td>2</td>\n    </tr>\n    <tr>\n      <th>3</th>\n      <td>2.0</td>\n      <td>Red</td>\n      <td>Poor</td>\n      <td>7</td>\n    </tr>\n    <tr>\n      <th>4</th>\n      <td>2.1</td>\n      <td>Red</td>\n      <td>Poor</td>\n      <td>15</td>\n    </tr>\n    <tr>\n      <th>5</th>\n      <td>2.2</td>\n      <td>Red</td>\n      <td>Poor</td>\n      <td>27</td>\n    </tr>\n    <tr>\n      <th>6</th>\n      <td>2.3</td>\n      <td>Red</td>\n      <td>Poor</td>\n      <td>47</td>\n    </tr>\n    <tr>\n      <th>7</th>\n      <td>2.4</td>\n      <td>Red</td>\n      <td>Poor</td>\n      <td>87</td>\n    </tr>\n    <tr>\n      <th>8</th>\n      <td>2.5</td>\n      <td>Orange</td>\n      <td>Average</td>\n      <td>110</td>\n    </tr>\n    <tr>\n      <th>9</th>\n      <td>2.6</td>\n      <td>Orange</td>\n      <td>Average</td>\n      <td>191</td>\n    </tr>\n    <tr>\n      <th>10</th>\n      <td>2.7</td>\n      <td>Orange</td>\n      <td>Average</td>\n      <td>250</td>\n    </tr>\n    <tr>\n      <th>11</th>\n      <td>2.8</td>\n      <td>Orange</td>\n      <td>Average</td>\n      <td>315</td>\n    </tr>\n    <tr>\n      <th>12</th>\n      <td>2.9</td>\n      <td>Orange</td>\n      <td>Average</td>\n      <td>381</td>\n    </tr>\n    <tr>\n      <th>13</th>\n      <td>3.0</td>\n      <td>Orange</td>\n      <td>Average</td>\n      <td>468</td>\n    </tr>\n    <tr>\n      <th>14</th>\n      <td>3.1</td>\n      <td>Orange</td>\n      <td>Average</td>\n      <td>519</td>\n    </tr>\n    <tr>\n      <th>15</th>\n      <td>3.2</td>\n      <td>Orange</td>\n      <td>Average</td>\n      <td>522</td>\n    </tr>\n    <tr>\n      <th>16</th>\n      <td>3.3</td>\n      <td>Orange</td>\n      <td>Average</td>\n      <td>483</td>\n    </tr>\n    <tr>\n      <th>17</th>\n      <td>3.4</td>\n      <td>Orange</td>\n      <td>Average</td>\n      <td>498</td>\n    </tr>\n    <tr>\n      <th>18</th>\n      <td>3.5</td>\n      <td>Yellow</td>\n      <td>Good</td>\n      <td>480</td>\n    </tr>\n    <tr>\n      <th>19</th>\n      <td>3.6</td>\n      <td>Yellow</td>\n      <td>Good</td>\n      <td>458</td>\n    </tr>\n    <tr>\n      <th>20</th>\n      <td>3.7</td>\n      <td>Yellow</td>\n      <td>Good</td>\n      <td>427</td>\n    </tr>\n    <tr>\n      <th>21</th>\n      <td>3.8</td>\n      <td>Yellow</td>\n      <td>Good</td>\n      <td>400</td>\n    </tr>\n    <tr>\n      <th>22</th>\n      <td>3.9</td>\n      <td>Yellow</td>\n      <td>Good</td>\n      <td>335</td>\n    </tr>\n    <tr>\n      <th>23</th>\n      <td>4.0</td>\n      <td>Green</td>\n      <td>Very Good</td>\n      <td>266</td>\n    </tr>\n    <tr>\n      <th>24</th>\n      <td>4.1</td>\n      <td>Green</td>\n      <td>Very Good</td>\n      <td>274</td>\n    </tr>\n    <tr>\n      <th>25</th>\n      <td>4.2</td>\n      <td>Green</td>\n      <td>Very Good</td>\n      <td>221</td>\n    </tr>\n    <tr>\n      <th>26</th>\n      <td>4.3</td>\n      <td>Green</td>\n      <td>Very Good</td>\n      <td>174</td>\n    </tr>\n    <tr>\n      <th>27</th>\n      <td>4.4</td>\n      <td>Green</td>\n      <td>Very Good</td>\n      <td>144</td>\n    </tr>\n    <tr>\n      <th>28</th>\n      <td>4.5</td>\n      <td>Dark Green</td>\n      <td>Excellent</td>\n      <td>95</td>\n    </tr>\n    <tr>\n      <th>29</th>\n      <td>4.6</td>\n      <td>Dark Green</td>\n      <td>Excellent</td>\n      <td>78</td>\n    </tr>\n    <tr>\n      <th>30</th>\n      <td>4.7</td>\n      <td>Dark Green</td>\n      <td>Excellent</td>\n      <td>42</td>\n    </tr>\n    <tr>\n      <th>31</th>\n      <td>4.8</td>\n      <td>Dark Green</td>\n      <td>Excellent</td>\n      <td>25</td>\n    </tr>\n    <tr>\n      <th>32</th>\n      <td>4.9</td>\n      <td>Dark Green</td>\n      <td>Excellent</td>\n      <td>61</td>\n    </tr>\n  </tbody>\n</table>\n</div>"
     },
     "execution_count": 49,
     "metadata": {},
     "output_type": "execute_result"
    }
   ],
   "source": [
    "finaldf.groupby(['Aggregate rating','Rating color','Rating text']).size().reset_index().rename(columns={0:'Rating Count'})"
   ],
   "metadata": {
    "collapsed": false,
    "pycharm": {
     "name": "#%%\n"
    }
   }
  },
  {
   "cell_type": "code",
   "execution_count": 50,
   "outputs": [],
   "source": [
    "# saving the above data in a variable\n",
    "ratings=finaldf.groupby(['Aggregate rating','Rating color','Rating text']).size().reset_index().rename(columns={0:'Rating Count'})"
   ],
   "metadata": {
    "collapsed": false,
    "pycharm": {
     "name": "#%%\n"
    }
   }
  },
  {
   "cell_type": "markdown",
   "source": [
    "Observations:\n",
    "\n",
    "When rating is between 4.5 to 4.9 ---> Excellent\n",
    "When rating is between 4.0 to 4.5 ---> Very Good\n",
    "When rating is between 3.5 to 4.0 ---> Good\n",
    "When rating is between 2.5 to 3.5 ---> Average\n",
    "When rating is between 1.8 to 2.5 ---> poor\n",
    "Many people did not rate."
   ],
   "metadata": {
    "collapsed": false,
    "pycharm": {
     "name": "#%% md\n"
    }
   }
  },
  {
   "cell_type": "code",
   "execution_count": 55,
   "outputs": [
    {
     "data": {
      "text/plain": "<Figure size 864x432 with 1 Axes>",
      "image/png": "[encoded data removed]"
     },
     "metadata": {
      "needs_background": "light"
     },
     "output_type": "display_data"
    }
   ],
   "source": [
    "import matplotlib\n",
    "matplotlib.rcParams['figure.figsize'] = (12,6)\n",
    "sns.barplot(x='Aggregate rating',y='Rating Count',data=ratings)\n",
    "plt.show()"
   ],
   "metadata": {
    "collapsed": false,
    "pycharm": {
     "name": "#%%\n"
    }
   }
  },
  {
   "cell_type": "code",
   "execution_count": 60,
   "outputs": [
    {
     "data": {
      "text/plain": "<Figure size 864x432 with 1 Axes>",
      "image/png": "[encoded data removed]"
     },
     "metadata": {
      "needs_background": "light"
     },
     "output_type": "display_data"
    }
   ],
   "source": [
    "# to change colors of the barplot to colors in Rating color column\n",
    "sns.barplot(x='Aggregate rating',y='Rating Count',hue='Rating color',palette=['white','red','orange','yellow','green','green'],data=ratings)\n",
    "plt.show()"
   ],
   "metadata": {
    "collapsed": false,
    "pycharm": {
     "name": "#%%\n"
    }
   }
  },
  {
   "cell_type": "markdown",
   "source": [
    "Observations:\n",
    "\n",
    "Not rated count is very high\n",
    "Maximum num of ratings are between 2.5 to 3.4"
   ],
   "metadata": {
    "collapsed": false,
    "pycharm": {
     "name": "#%% md\n"
    }
   }
  },
  {
   "cell_type": "code",
   "execution_count": 63,
   "outputs": [
    {
     "data": {
      "text/plain": "<Figure size 864x432 with 1 Axes>",
      "image/png": "[encoded data removed]"
     },
     "metadata": {
      "needs_background": "light"
     },
     "output_type": "display_data"
    }
   ],
   "source": [
    "# Count plot : frequency of colors\n",
    "sns.countplot(x='Rating color',data=ratings,palette=['white','red','orange','yellow','green','green'])\n",
    "plt.show()"
   ],
   "metadata": {
    "collapsed": false,
    "pycharm": {
     "name": "#%%\n"
    }
   }
  },
  {
   "cell_type": "code",
   "execution_count": 65,
   "outputs": [
    {
     "data": {
      "text/plain": "     Aggregate rating         Country  Count\n0                 0.0          Brazil      5\n1                 0.0           India   2139\n2                 0.0  United Kingdom      1\n3                 0.0   United States      3\n4                 1.8           India      1\n..                ...             ...    ...\n217               4.9       Sri Lanka      1\n218               4.9          Turkey      3\n219               4.9             UAE      4\n220               4.9  United Kingdom      4\n221               4.9   United States     14\n\n[222 rows x 3 columns]",
      "text/html": "<div>\n<style scoped>\n    .dataframe tbody tr th:only-of-type {\n        vertical-align: middle;\n    }\n\n    .dataframe tbody tr th {\n        vertical-align: top;\n    }\n\n    .dataframe thead th {\n        text-align: right;\n    }\n</style>\n<table border=\"1\" class=\"dataframe\">\n  <thead>\n    <tr style=\"text-align: right;\">\n      <th></th>\n      <th>Aggregate rating</th>\n      <th>Country</th>\n      <th>Count</th>\n    </tr>\n  </thead>\n  <tbody>\n    <tr>\n      <th>0</th>\n      <td>0.0</td>\n      <td>Brazil</td>\n      <td>5</td>\n    </tr>\n    <tr>\n      <th>1</th>\n      <td>0.0</td>\n      <td>India</td>\n      <td>2139</td>\n    </tr>\n    <tr>\n      <th>2</th>\n      <td>0.0</td>\n      <td>United Kingdom</td>\n      <td>1</td>\n    </tr>\n    <tr>\n      <th>3</th>\n      <td>0.0</td>\n      <td>United States</td>\n      <td>3</td>\n    </tr>\n    <tr>\n      <th>4</th>\n      <td>1.8</td>\n      <td>India</td>\n      <td>1</td>\n    </tr>\n    <tr>\n      <th>...</th>\n      <td>...</td>\n      <td>...</td>\n      <td>...</td>\n    </tr>\n    <tr>\n      <th>217</th>\n      <td>4.9</td>\n      <td>Sri Lanka</td>\n      <td>1</td>\n    </tr>\n    <tr>\n      <th>218</th>\n      <td>4.9</td>\n      <td>Turkey</td>\n      <td>3</td>\n    </tr>\n    <tr>\n      <th>219</th>\n      <td>4.9</td>\n      <td>UAE</td>\n      <td>4</td>\n    </tr>\n    <tr>\n      <th>220</th>\n      <td>4.9</td>\n      <td>United Kingdom</td>\n      <td>4</td>\n    </tr>\n    <tr>\n      <th>221</th>\n      <td>4.9</td>\n      <td>United States</td>\n      <td>14</td>\n    </tr>\n  </tbody>\n</table>\n<p>222 rows × 3 columns</p>\n</div>"
     },
     "execution_count": 65,
     "metadata": {},
     "output_type": "execute_result"
    }
   ],
   "source": [
    "# find countries that have given 0 ratings\n",
    "finaldf.groupby(['Aggregate rating','Country']).size().reset_index().rename(columns={0:'Count'})"
   ],
   "metadata": {
    "collapsed": false,
    "pycharm": {
     "name": "#%%\n"
    }
   }
  },
  {
   "cell_type": "markdown",
   "source": [
    "Observations:\n",
    "\n",
    "Maximum number of 0 ratings are from India."
   ],
   "metadata": {
    "collapsed": false,
    "pycharm": {
     "name": "#%% md\n"
    }
   }
  },
  {
   "cell_type": "code",
   "execution_count": 71,
   "outputs": [
    {
     "data": {
      "text/plain": "                  Currency         Country     0\n0         Botswana Pula(P)     Phillipines    22\n1       Brazilian Real(R$)          Brazil    60\n2                Dollar($)       Australia    24\n3                Dollar($)          Canada     4\n4                Dollar($)       Singapore    20\n5                Dollar($)   United States   434\n6       Emirati Diram(AED)             UAE    60\n7       Indian Rupees(Rs.)           India  8652\n8   Indonesian Rupiah(IDR)       Indonesia    21\n9            NewZealand($)     New Zealand    40\n10              Pounds(£)  United Kingdom    80\n11         Qatari Rial(QR)           Qatar    20\n12                 Rand(R)    South Africa    60\n13   Sri Lankan Rupee(LKR)       Sri Lanka    20\n14        Turkish Lira(TL)          Turkey    34",
      "text/html": "<div>\n<style scoped>\n    .dataframe tbody tr th:only-of-type {\n        vertical-align: middle;\n    }\n\n    .dataframe tbody tr th {\n        vertical-align: top;\n    }\n\n    .dataframe thead th {\n        text-align: right;\n    }\n</style>\n<table border=\"1\" class=\"dataframe\">\n  <thead>\n    <tr style=\"text-align: right;\">\n      <th></th>\n      <th>Currency</th>\n      <th>Country</th>\n      <th>0</th>\n    </tr>\n  </thead>\n  <tbody>\n    <tr>\n      <th>0</th>\n      <td>Botswana Pula(P)</td>\n      <td>Phillipines</td>\n      <td>22</td>\n    </tr>\n    <tr>\n      <th>1</th>\n      <td>Brazilian Real(R$)</td>\n      <td>Brazil</td>\n      <td>60</td>\n    </tr>\n    <tr>\n      <th>2</th>\n      <td>Dollar($)</td>\n      <td>Australia</td>\n      <td>24</td>\n    </tr>\n    <tr>\n      <th>3</th>\n      <td>Dollar($)</td>\n      <td>Canada</td>\n      <td>4</td>\n    </tr>\n    <tr>\n      <th>4</th>\n      <td>Dollar($)</td>\n      <td>Singapore</td>\n      <td>20</td>\n    </tr>\n    <tr>\n      <th>5</th>\n      <td>Dollar($)</td>\n      <td>United States</td>\n      <td>434</td>\n    </tr>\n    <tr>\n      <th>6</th>\n      <td>Emirati Diram(AED)</td>\n      <td>UAE</td>\n      <td>60</td>\n    </tr>\n    <tr>\n      <th>7</th>\n      <td>Indian Rupees(Rs.)</td>\n      <td>India</td>\n      <td>8652</td>\n    </tr>\n    <tr>\n      <th>8</th>\n      <td>Indonesian Rupiah(IDR)</td>\n      <td>Indonesia</td>\n      <td>21</td>\n    </tr>\n    <tr>\n      <th>9</th>\n      <td>NewZealand($)</td>\n      <td>New Zealand</td>\n      <td>40</td>\n    </tr>\n    <tr>\n      <th>10</th>\n      <td>Pounds(£)</td>\n      <td>United Kingdom</td>\n      <td>80</td>\n    </tr>\n    <tr>\n      <th>11</th>\n      <td>Qatari Rial(QR)</td>\n      <td>Qatar</td>\n      <td>20</td>\n    </tr>\n    <tr>\n      <th>12</th>\n      <td>Rand(R)</td>\n      <td>South Africa</td>\n      <td>60</td>\n    </tr>\n    <tr>\n      <th>13</th>\n      <td>Sri Lankan Rupee(LKR)</td>\n      <td>Sri Lanka</td>\n      <td>20</td>\n    </tr>\n    <tr>\n      <th>14</th>\n      <td>Turkish Lira(TL)</td>\n      <td>Turkey</td>\n      <td>34</td>\n    </tr>\n  </tbody>\n</table>\n</div>"
     },
     "execution_count": 71,
     "metadata": {},
     "output_type": "execute_result"
    }
   ],
   "source": [
    "# find which currency is used by which country\n",
    "finaldf.groupby(['Currency','Country']).size().reset_index()"
   ],
   "metadata": {
    "collapsed": false,
    "pycharm": {
     "name": "#%%\n"
    }
   }
  },
  {
   "cell_type": "code",
   "execution_count": 75,
   "outputs": [
    {
     "data": {
      "text/plain": "Index(['Restaurant ID', 'Restaurant Name', 'Country Code', 'City', 'Address',\n       'Locality', 'Locality Verbose', 'Longitude', 'Latitude', 'Cuisines',\n       'Average Cost for two', 'Currency', 'Has Table booking',\n       'Has Online delivery', 'Is delivering now', 'Switch to order menu',\n       'Price range', 'Aggregate rating', 'Rating color', 'Rating text',\n       'Votes', 'Country'],\n      dtype='object')"
     },
     "execution_count": 75,
     "metadata": {},
     "output_type": "execute_result"
    }
   ],
   "source": [
    "#which countires do have online deliveries\n",
    "finaldf.columns"
   ],
   "metadata": {
    "collapsed": false,
    "pycharm": {
     "name": "#%%\n"
    }
   }
  },
  {
   "cell_type": "code",
   "execution_count": 79,
   "outputs": [
    {
     "data": {
      "text/plain": "India    2423\nUAE        28\nName: Country, dtype: int64"
     },
     "execution_count": 79,
     "metadata": {},
     "output_type": "execute_result"
    }
   ],
   "source": [
    "finaldf[finaldf['Has Online delivery']=='Yes'].Country.value_counts()"
   ],
   "metadata": {
    "collapsed": false,
    "pycharm": {
     "name": "#%%\n"
    }
   }
  },
  {
   "cell_type": "markdown",
   "source": [
    "Observations:\n",
    "\n",
    "Online deliveries are available in India and UAE."
   ],
   "metadata": {
    "collapsed": false,
    "pycharm": {
     "name": "#%% md\n"
    }
   }
  },
  {
   "cell_type": "code",
   "execution_count": 80,
   "outputs": [
    {
     "data": {
      "text/plain": "Index(['Restaurant ID', 'Restaurant Name', 'Country Code', 'City', 'Address',\n       'Locality', 'Locality Verbose', 'Longitude', 'Latitude', 'Cuisines',\n       'Average Cost for two', 'Currency', 'Has Table booking',\n       'Has Online delivery', 'Is delivering now', 'Switch to order menu',\n       'Price range', 'Aggregate rating', 'Rating color', 'Rating text',\n       'Votes', 'Country'],\n      dtype='object')"
     },
     "execution_count": 80,
     "metadata": {},
     "output_type": "execute_result"
    }
   ],
   "source": [
    "# creat a pie chart for cities distribution\n",
    "finaldf.columns"
   ],
   "metadata": {
    "collapsed": false,
    "pycharm": {
     "name": "#%%\n"
    }
   }
  },
  {
   "cell_type": "code",
   "execution_count": 86,
   "outputs": [
    {
     "data": {
      "text/plain": "array([5473, 1118, 1080,  251,   25,   21,   21,   21,   21,   21,   20,\n         20,   20,   20,   20,   20,   20,   20,   20,   20,   20,   20,\n         20,   20,   20,   20,   20,   20,   20,   20,   20,   20,   20,\n         20,   20,   20,   20,   20,   20,   20,   20,   20,   20,   20,\n         20,   20,   20,   20,   20,   20,   20,   20,   20,   20,   20,\n         20,   20,   20,   20,   20,   20,   20,   20,   20,   20,   20,\n         20,   20,   20,   20,   20,   20,   20,   20,   20,   20,   20,\n         18,   18,   16,   14,   11,    6,    4,    4,    3,    3,    2,\n          2,    2,    2,    2,    2,    2,    2,    1,    1,    1,    1,\n          1,    1,    1,    1,    1,    1,    1,    1,    1,    1,    1,\n          1,    1,    1,    1,    1,    1,    1,    1,    1,    1,    1,\n          1,    1,    1,    1,    1,    1,    1,    1,    1,    1,    1,\n          1,    1,    1,    1,    1,    1,    1,    1,    1], dtype=int64)"
     },
     "execution_count": 86,
     "metadata": {},
     "output_type": "execute_result"
    }
   ],
   "source": [
    "cityvalu=finaldf.City.value_counts().values\n",
    "cityvalu"
   ],
   "metadata": {
    "collapsed": false,
    "pycharm": {
     "name": "#%%\n"
    }
   }
  },
  {
   "cell_type": "markdown",
   "source": [],
   "metadata": {
    "collapsed": false,
    "pycharm": {
     "name": "#%% md\n"
    }
   }
  },
  {
   "cell_type": "code",
   "execution_count": 87,
   "outputs": [
    {
     "data": {
      "text/plain": "Index(['New Delhi', 'Gurgaon', 'Noida', 'Faridabad', 'Ghaziabad',\n       'Bhubaneshwar', 'Amritsar', 'Ahmedabad', 'Lucknow', 'Guwahati',\n       ...\n       'Ojo Caliente', 'Montville', 'Monroe', 'Miller', 'Middleton Beach',\n       'Panchkula', 'Mc Millan', 'Mayfield', 'Macedon', 'Vineland Station'],\n      dtype='object', length=141)"
     },
     "execution_count": 87,
     "metadata": {},
     "output_type": "execute_result"
    }
   ],
   "source": [
    "citylabels=finaldf.City.value_counts().index\n",
    "citylabels"
   ],
   "metadata": {
    "collapsed": false,
    "pycharm": {
     "name": "#%%\n"
    }
   }
  },
  {
   "cell_type": "code",
   "execution_count": 89,
   "outputs": [
    {
     "data": {
      "text/plain": "<Figure size 864x432 with 1 Axes>",
      "image/png": "[encoded data removed]"
     },
     "metadata": {},
     "output_type": "display_data"
    }
   ],
   "source": [
    "plt.pie(cityvalu[:5],labels=citylabels[:5],autopct='%0.1f%%')\n",
    "plt.show()"
   ],
   "metadata": {
    "collapsed": false,
    "pycharm": {
     "name": "#%%\n"
    }
   }
  },
  {
   "cell_type": "code",
   "execution_count": 90,
   "outputs": [
    {
     "data": {
      "text/plain": "   Restaurant ID         Restaurant Name  Country Code              City  \\\n0        6317637        Le Petit Souffle           162       Makati City   \n1        6304287        Izakaya Kikufuji           162       Makati City   \n2        6300002  Heat - Edsa Shangri-La           162  Mandaluyong City   \n3        6318506                    Ooma           162  Mandaluyong City   \n4        6314302             Sambo Kojin           162  Mandaluyong City   \n\n                                             Address  \\\n0  Third Floor, Century City Mall, Kalayaan Avenu...   \n1  Little Tokyo, 2277 Chino Roces Avenue, Legaspi...   \n2  Edsa Shangri-La, 1 Garden Way, Ortigas, Mandal...   \n3  Third Floor, Mega Fashion Hall, SM Megamall, O...   \n4  Third Floor, Mega Atrium, SM Megamall, Ortigas...   \n\n                                     Locality  \\\n0   Century City Mall, Poblacion, Makati City   \n1  Little Tokyo, Legaspi Village, Makati City   \n2  Edsa Shangri-La, Ortigas, Mandaluyong City   \n3      SM Megamall, Ortigas, Mandaluyong City   \n4      SM Megamall, Ortigas, Mandaluyong City   \n\n                                    Locality Verbose   Longitude   Latitude  \\\n0  Century City Mall, Poblacion, Makati City, Mak...  121.027535  14.565443   \n1  Little Tokyo, Legaspi Village, Makati City, Ma...  121.014101  14.553708   \n2  Edsa Shangri-La, Ortigas, Mandaluyong City, Ma...  121.056831  14.581404   \n3  SM Megamall, Ortigas, Mandaluyong City, Mandal...  121.056475  14.585318   \n4  SM Megamall, Ortigas, Mandaluyong City, Mandal...  121.057508  14.584450   \n\n                           Cuisines  ...  Has Table booking  \\\n0        French, Japanese, Desserts  ...                Yes   \n1                          Japanese  ...                Yes   \n2  Seafood, Asian, Filipino, Indian  ...                Yes   \n3                   Japanese, Sushi  ...                 No   \n4                  Japanese, Korean  ...                Yes   \n\n  Has Online delivery Is delivering now Switch to order menu Price range  \\\n0                  No                No                   No           3   \n1                  No                No                   No           3   \n2                  No                No                   No           4   \n3                  No                No                   No           4   \n4                  No                No                   No           4   \n\n  Aggregate rating  Rating color  Rating text Votes      Country  \n0              4.8    Dark Green    Excellent   314  Phillipines  \n1              4.5    Dark Green    Excellent   591  Phillipines  \n2              4.4         Green    Very Good   270  Phillipines  \n3              4.9    Dark Green    Excellent   365  Phillipines  \n4              4.8    Dark Green    Excellent   229  Phillipines  \n\n[5 rows x 22 columns]",
      "text/html": "<div>\n<style scoped>\n    .dataframe tbody tr th:only-of-type {\n        vertical-align: middle;\n    }\n\n    .dataframe tbody tr th {\n        vertical-align: top;\n    }\n\n    .dataframe thead th {\n        text-align: right;\n    }\n</style>\n<table border=\"1\" class=\"dataframe\">\n  <thead>\n    <tr style=\"text-align: right;\">\n      <th></th>\n      <th>Restaurant ID</th>\n      <th>Restaurant Name</th>\n      <th>Country Code</th>\n      <th>City</th>\n      <th>Address</th>\n      <th>Locality</th>\n      <th>Locality Verbose</th>\n      <th>Longitude</th>\n      <th>Latitude</th>\n      <th>Cuisines</th>\n      <th>...</th>\n      <th>Has Table booking</th>\n      <th>Has Online delivery</th>\n      <th>Is delivering now</th>\n      <th>Switch to order menu</th>\n      <th>Price range</th>\n      <th>Aggregate rating</th>\n      <th>Rating color</th>\n      <th>Rating text</th>\n      <th>Votes</th>\n      <th>Country</th>\n    </tr>\n  </thead>\n  <tbody>\n    <tr>\n      <th>0</th>\n      <td>6317637</td>\n      <td>Le Petit Souffle</td>\n      <td>162</td>\n      <td>Makati City</td>\n      <td>Third Floor, Century City Mall, Kalayaan Avenu...</td>\n      <td>Century City Mall, Poblacion, Makati City</td>\n      <td>Century City Mall, Poblacion, Makati City, Mak...</td>\n      <td>121.027535</td>\n      <td>14.565443</td>\n      <td>French, Japanese, Desserts</td>\n      <td>...</td>\n      <td>Yes</td>\n      <td>No</td>\n      <td>No</td>\n      <td>No</td>\n      <td>3</td>\n      <td>4.8</td>\n      <td>Dark Green</td>\n      <td>Excellent</td>\n      <td>314</td>\n      <td>Phillipines</td>\n    </tr>\n    <tr>\n      <th>1</th>\n      <td>6304287</td>\n      <td>Izakaya Kikufuji</td>\n      <td>162</td>\n      <td>Makati City</td>\n      <td>Little Tokyo, 2277 Chino Roces Avenue, Legaspi...</td>\n      <td>Little Tokyo, Legaspi Village, Makati City</td>\n      <td>Little Tokyo, Legaspi Village, Makati City, Ma...</td>\n      <td>121.014101</td>\n      <td>14.553708</td>\n      <td>Japanese</td>\n      <td>...</td>\n      <td>Yes</td>\n      <td>No</td>\n      <td>No</td>\n      <td>No</td>\n      <td>3</td>\n      <td>4.5</td>\n      <td>Dark Green</td>\n      <td>Excellent</td>\n      <td>591</td>\n      <td>Phillipines</td>\n    </tr>\n    <tr>\n      <th>2</th>\n      <td>6300002</td>\n      <td>Heat - Edsa Shangri-La</td>\n      <td>162</td>\n      <td>Mandaluyong City</td>\n      <td>Edsa Shangri-La, 1 Garden Way, Ortigas, Mandal...</td>\n      <td>Edsa Shangri-La, Ortigas, Mandaluyong City</td>\n      <td>Edsa Shangri-La, Ortigas, Mandaluyong City, Ma...</td>\n      <td>121.056831</td>\n      <td>14.581404</td>\n      <td>Seafood, Asian, Filipino, Indian</td>\n      <td>...</td>\n      <td>Yes</td>\n      <td>No</td>\n      <td>No</td>\n      <td>No</td>\n      <td>4</td>\n      <td>4.4</td>\n      <td>Green</td>\n      <td>Very Good</td>\n      <td>270</td>\n      <td>Phillipines</td>\n    </tr>\n    <tr>\n      <th>3</th>\n      <td>6318506</td>\n      <td>Ooma</td>\n      <td>162</td>\n      <td>Mandaluyong City</td>\n      <td>Third Floor, Mega Fashion Hall, SM Megamall, O...</td>\n      <td>SM Megamall, Ortigas, Mandaluyong City</td>\n      <td>SM Megamall, Ortigas, Mandaluyong City, Mandal...</td>\n      <td>121.056475</td>\n      <td>14.585318</td>\n      <td>Japanese, Sushi</td>\n      <td>...</td>\n      <td>No</td>\n      <td>No</td>\n      <td>No</td>\n      <td>No</td>\n      <td>4</td>\n      <td>4.9</td>\n      <td>Dark Green</td>\n      <td>Excellent</td>\n      <td>365</td>\n      <td>Phillipines</td>\n    </tr>\n    <tr>\n      <th>4</th>\n      <td>6314302</td>\n      <td>Sambo Kojin</td>\n      <td>162</td>\n      <td>Mandaluyong City</td>\n      <td>Third Floor, Mega Atrium, SM Megamall, Ortigas...</td>\n      <td>SM Megamall, Ortigas, Mandaluyong City</td>\n      <td>SM Megamall, Ortigas, Mandaluyong City, Mandal...</td>\n      <td>121.057508</td>\n      <td>14.584450</td>\n      <td>Japanese, Korean</td>\n      <td>...</td>\n      <td>Yes</td>\n      <td>No</td>\n      <td>No</td>\n      <td>No</td>\n      <td>4</td>\n      <td>4.8</td>\n      <td>Dark Green</td>\n      <td>Excellent</td>\n      <td>229</td>\n      <td>Phillipines</td>\n    </tr>\n  </tbody>\n</table>\n<p>5 rows × 22 columns</p>\n</div>"
     },
     "execution_count": 90,
     "metadata": {},
     "output_type": "execute_result"
    }
   ],
   "source": [
    "#find top 10 cusines\n",
    "finaldf.head()"
   ],
   "metadata": {
    "collapsed": false,
    "pycharm": {
     "name": "#%%\n"
    }
   }
  },
  {
   "cell_type": "code",
   "execution_count": 95,
   "outputs": [
    {
     "data": {
      "text/plain": "North Indian                      936\nNorth Indian, Chinese             511\nChinese                           354\nFast Food                         354\nNorth Indian, Mughlai             334\nCafe                              299\nBakery                            218\nNorth Indian, Mughlai, Chinese    197\nBakery, Desserts                  170\nStreet Food                       149\nName: Cuisines, dtype: int64"
     },
     "execution_count": 95,
     "metadata": {},
     "output_type": "execute_result"
    }
   ],
   "source": [
    "finaldf['Cuisines'].value_counts().head(10)"
   ],
   "metadata": {
    "collapsed": false,
    "pycharm": {
     "name": "#%%\n"
    }
   }
  },
  {
   "cell_type": "code",
   "execution_count": null,
   "outputs": [],
   "source": [],
   "metadata": {
    "collapsed": false,
    "pycharm": {
     "name": "#%%\n"
    }
   }
  }
 ],
 "metadata": {
  "kernelspec": {
   "display_name": "Python 3",
   "language": "python",
   "name": "python3"
  },
  "language_info": {
   "codemirror_mode": {
    "name": "ipython",
    "version": 2
   },
   "file_extension": ".py",
   "mimetype": "text/x-python",
   "name": "python",
   "nbconvert_exporter": "python",
   "pygments_lexer": "ipython2",
   "version": "2.7.6"
  }
 },
 "nbformat": 4,
 "nbformat_minor": 0
}